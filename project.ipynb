{
 "cells": [
  {
   "cell_type": "markdown",
   "id": "4c412c36",
   "metadata": {},
   "source": [
    "#Task one :  Initial Data Exploration\n",
    " "
   ]
  },
  {
   "cell_type": "code",
   "execution_count": 17,
   "id": "65b56f7d",
   "metadata": {},
   "outputs": [],
   "source": [
    "import pandas as pd\n",
    "import numpy as np\n",
    "import matplotlib.pyplot as plt \n",
    "import seaborn as sns"
   ]
  },
  {
   "cell_type": "code",
   "execution_count": 10,
   "id": "16c6e78c",
   "metadata": {},
   "outputs": [
    {
     "data": {
      "text/html": [
       "<div>\n",
       "<style scoped>\n",
       "    .dataframe tbody tr th:only-of-type {\n",
       "        vertical-align: middle;\n",
       "    }\n",
       "\n",
       "    .dataframe tbody tr th {\n",
       "        vertical-align: top;\n",
       "    }\n",
       "\n",
       "    .dataframe thead th {\n",
       "        text-align: right;\n",
       "    }\n",
       "</style>\n",
       "<table border=\"1\" class=\"dataframe\">\n",
       "  <thead>\n",
       "    <tr style=\"text-align: right;\">\n",
       "      <th></th>\n",
       "      <th>USD (AM)</th>\n",
       "      <th>USD (PM)</th>\n",
       "      <th>GBP (AM)</th>\n",
       "      <th>GBP (PM)</th>\n",
       "      <th>EURO (AM)</th>\n",
       "      <th>EURO (PM)</th>\n",
       "    </tr>\n",
       "    <tr>\n",
       "      <th>Date</th>\n",
       "      <th></th>\n",
       "      <th></th>\n",
       "      <th></th>\n",
       "      <th></th>\n",
       "      <th></th>\n",
       "      <th></th>\n",
       "    </tr>\n",
       "  </thead>\n",
       "  <tbody>\n",
       "    <tr>\n",
       "      <th>2001-01-02</th>\n",
       "      <td>272.80</td>\n",
       "      <td>271.10</td>\n",
       "      <td>183.026</td>\n",
       "      <td>181.617</td>\n",
       "      <td>288.677</td>\n",
       "      <td>287.334</td>\n",
       "    </tr>\n",
       "    <tr>\n",
       "      <th>2001-01-03</th>\n",
       "      <td>269.00</td>\n",
       "      <td>267.15</td>\n",
       "      <td>178.916</td>\n",
       "      <td>177.390</td>\n",
       "      <td>281.823</td>\n",
       "      <td>281.655</td>\n",
       "    </tr>\n",
       "    <tr>\n",
       "      <th>2001-01-04</th>\n",
       "      <td>268.75</td>\n",
       "      <td>267.10</td>\n",
       "      <td>178.869</td>\n",
       "      <td>178.352</td>\n",
       "      <td>282.538</td>\n",
       "      <td>282.049</td>\n",
       "    </tr>\n",
       "    <tr>\n",
       "      <th>2001-01-05</th>\n",
       "      <td>268.00</td>\n",
       "      <td>267.40</td>\n",
       "      <td>178.488</td>\n",
       "      <td>178.148</td>\n",
       "      <td>280.775</td>\n",
       "      <td>280.882</td>\n",
       "    </tr>\n",
       "    <tr>\n",
       "      <th>2001-01-08</th>\n",
       "      <td>268.60</td>\n",
       "      <td>268.30</td>\n",
       "      <td>178.769</td>\n",
       "      <td>178.664</td>\n",
       "      <td>282.410</td>\n",
       "      <td>282.481</td>\n",
       "    </tr>\n",
       "    <tr>\n",
       "      <th>...</th>\n",
       "      <td>...</td>\n",
       "      <td>...</td>\n",
       "      <td>...</td>\n",
       "      <td>...</td>\n",
       "      <td>...</td>\n",
       "      <td>...</td>\n",
       "    </tr>\n",
       "    <tr>\n",
       "      <th>2019-08-27</th>\n",
       "      <td>1531.85</td>\n",
       "      <td>1532.95</td>\n",
       "      <td>1250.910</td>\n",
       "      <td>1247.510</td>\n",
       "      <td>1378.970</td>\n",
       "      <td>1380.880</td>\n",
       "    </tr>\n",
       "    <tr>\n",
       "      <th>2019-08-28</th>\n",
       "      <td>1541.75</td>\n",
       "      <td>1537.15</td>\n",
       "      <td>1263.310</td>\n",
       "      <td>1258.770</td>\n",
       "      <td>1389.890</td>\n",
       "      <td>1387.430</td>\n",
       "    </tr>\n",
       "    <tr>\n",
       "      <th>2019-08-29</th>\n",
       "      <td>1536.65</td>\n",
       "      <td>1540.20</td>\n",
       "      <td>1260.510</td>\n",
       "      <td>1262.960</td>\n",
       "      <td>1387.290</td>\n",
       "      <td>1392.030</td>\n",
       "    </tr>\n",
       "    <tr>\n",
       "      <th>2019-08-30</th>\n",
       "      <td>1526.55</td>\n",
       "      <td>1528.40</td>\n",
       "      <td>1253.140</td>\n",
       "      <td>1251.150</td>\n",
       "      <td>1382.750</td>\n",
       "      <td>1383.510</td>\n",
       "    </tr>\n",
       "    <tr>\n",
       "      <th>2019-09-02</th>\n",
       "      <td>1523.35</td>\n",
       "      <td>1525.95</td>\n",
       "      <td>1260.420</td>\n",
       "      <td>1265.010</td>\n",
       "      <td>1388.690</td>\n",
       "      <td>1391.510</td>\n",
       "    </tr>\n",
       "  </tbody>\n",
       "</table>\n",
       "<p>4718 rows × 6 columns</p>\n",
       "</div>"
      ],
      "text/plain": [
       "            USD (AM)  USD (PM)  GBP (AM)  GBP (PM)  EURO (AM)  EURO (PM)\n",
       "Date                                                                    \n",
       "2001-01-02    272.80    271.10   183.026   181.617    288.677    287.334\n",
       "2001-01-03    269.00    267.15   178.916   177.390    281.823    281.655\n",
       "2001-01-04    268.75    267.10   178.869   178.352    282.538    282.049\n",
       "2001-01-05    268.00    267.40   178.488   178.148    280.775    280.882\n",
       "2001-01-08    268.60    268.30   178.769   178.664    282.410    282.481\n",
       "...              ...       ...       ...       ...        ...        ...\n",
       "2019-08-27   1531.85   1532.95  1250.910  1247.510   1378.970   1380.880\n",
       "2019-08-28   1541.75   1537.15  1263.310  1258.770   1389.890   1387.430\n",
       "2019-08-29   1536.65   1540.20  1260.510  1262.960   1387.290   1392.030\n",
       "2019-08-30   1526.55   1528.40  1253.140  1251.150   1382.750   1383.510\n",
       "2019-09-02   1523.35   1525.95  1260.420  1265.010   1388.690   1391.510\n",
       "\n",
       "[4718 rows x 6 columns]"
      ]
     },
     "execution_count": 10,
     "metadata": {},
     "output_type": "execute_result"
    }
   ],
   "source": [
    "df=pd.read_csv('gold_price.csv', index_col = 'Date',parse_dates= True)\n",
    "df"
   ]
  },
  {
   "cell_type": "markdown",
   "id": "993fab22",
   "metadata": {},
   "source": [
    "# Task 1:  Initial Data Exploration\n"
   ]
  },
  {
   "cell_type": "code",
   "execution_count": 11,
   "id": "be53c878",
   "metadata": {},
   "outputs": [
    {
     "name": "stdout",
     "output_type": "stream",
     "text": [
      "            USD (AM)  USD (PM)  GBP (AM)  GBP (PM)  EURO (AM)  EURO (PM)\n",
      "Date                                                                    \n",
      "2001-01-02    272.80    271.10   183.026   181.617    288.677    287.334\n",
      "2001-01-03    269.00    267.15   178.916   177.390    281.823    281.655\n",
      "2001-01-04    268.75    267.10   178.869   178.352    282.538    282.049\n",
      "2001-01-05    268.00    267.40   178.488   178.148    280.775    280.882\n",
      "2001-01-08    268.60    268.30   178.769   178.664    282.410    282.481\n",
      "<class 'pandas.core.frame.DataFrame'>\n",
      "DatetimeIndex: 4718 entries, 2001-01-02 to 2019-09-02\n",
      "Data columns (total 6 columns):\n",
      " #   Column     Non-Null Count  Dtype  \n",
      "---  ------     --------------  -----  \n",
      " 0   USD (AM)   4718 non-null   float64\n",
      " 1   USD (PM)   4682 non-null   float64\n",
      " 2   GBP (AM)   4718 non-null   float64\n",
      " 3   GBP (PM)   4682 non-null   float64\n",
      " 4   EURO (AM)  4718 non-null   float64\n",
      " 5   EURO (PM)  4682 non-null   float64\n",
      "dtypes: float64(6)\n",
      "memory usage: 258.0 KB\n",
      "None\n",
      "(4718, 6)\n",
      "          USD (AM)     USD (PM)     GBP (AM)     GBP (PM)    EURO (AM)  \\\n",
      "count  4718.000000  4682.000000  4718.000000  4682.000000  4718.000000   \n",
      "mean    959.990812   959.728684   625.068432   624.921846   773.892791   \n",
      "std     449.456217   449.487106   324.491391   324.544149   351.555806   \n",
      "min     256.700000   255.950000   176.572000   176.441000   276.711000   \n",
      "25%     449.112500   448.612500   244.576750   244.463500   361.393500   \n",
      "50%    1113.125000  1112.275000   717.145000   716.210500   874.354500   \n",
      "75%    1293.750000  1294.225000   939.065500   939.266500  1085.967750   \n",
      "max    1896.500000  1895.000000  1265.900000  1265.010000  1389.890000   \n",
      "\n",
      "         EURO (PM)  \n",
      "count  4682.000000  \n",
      "mean    773.843716  \n",
      "std     351.696708  \n",
      "min     277.667000  \n",
      "25%     361.338750  \n",
      "50%     875.141500  \n",
      "75%    1085.816250  \n",
      "max    1392.030000  \n"
     ]
    }
   ],
   "source": [
    "print(df.head(5))\n",
    "print(df.info())\n",
    "print(df.shape)\n",
    "print(df.describe())"
   ]
  },
  {
   "cell_type": "code",
   "execution_count": 12,
   "id": "7c3eac3a",
   "metadata": {},
   "outputs": [],
   "source": [
    "df['Return'] = df['USD (PM)'].pct_change()*100 \n",
    "df['Lagged_Return'] = df.Return.shift()\n",
    "df = df.dropna()"
   ]
  },
  {
   "cell_type": "code",
   "execution_count": 13,
   "id": "c37f8f4c",
   "metadata": {},
   "outputs": [
    {
     "name": "stderr",
     "output_type": "stream",
     "text": [
      "C:\\Users\\dell\\AppData\\Local\\Temp\\ipykernel_26940\\1038176646.py:1: SettingWithCopyWarning: \n",
      "A value is trying to be set on a copy of a slice from a DataFrame.\n",
      "Try using .loc[row_indexer,col_indexer] = value instead\n",
      "\n",
      "See the caveats in the documentation: https://pandas.pydata.org/pandas-docs/stable/user_guide/indexing.html#returning-a-view-versus-a-copy\n",
      "  df['Return'] = df['USD (PM)'].pct_change()*100\n",
      "C:\\Users\\dell\\AppData\\Local\\Temp\\ipykernel_26940\\1038176646.py:2: SettingWithCopyWarning: \n",
      "A value is trying to be set on a copy of a slice from a DataFrame.\n",
      "Try using .loc[row_indexer,col_indexer] = value instead\n",
      "\n",
      "See the caveats in the documentation: https://pandas.pydata.org/pandas-docs/stable/user_guide/indexing.html#returning-a-view-versus-a-copy\n",
      "  df['Lagged_Return'] = df.Return.shift()\n"
     ]
    }
   ],
   "source": [
    "df['Return'] = df['USD (PM)'].pct_change()*100 \n",
    "df['Lagged_Return'] = df.Return.shift()\n",
    "df = df.dropna()"
   ]
  },
  {
   "cell_type": "code",
   "execution_count": 14,
   "id": "828e6565",
   "metadata": {},
   "outputs": [
    {
     "data": {
      "text/html": [
       "<div>\n",
       "<style scoped>\n",
       "    .dataframe tbody tr th:only-of-type {\n",
       "        vertical-align: middle;\n",
       "    }\n",
       "\n",
       "    .dataframe tbody tr th {\n",
       "        vertical-align: top;\n",
       "    }\n",
       "\n",
       "    .dataframe thead th {\n",
       "        text-align: right;\n",
       "    }\n",
       "</style>\n",
       "<table border=\"1\" class=\"dataframe\">\n",
       "  <thead>\n",
       "    <tr style=\"text-align: right;\">\n",
       "      <th></th>\n",
       "      <th>USD (AM)</th>\n",
       "      <th>USD (PM)</th>\n",
       "      <th>GBP (AM)</th>\n",
       "      <th>GBP (PM)</th>\n",
       "      <th>EURO (AM)</th>\n",
       "      <th>EURO (PM)</th>\n",
       "      <th>Return</th>\n",
       "      <th>Lagged_Return</th>\n",
       "    </tr>\n",
       "    <tr>\n",
       "      <th>Date</th>\n",
       "      <th></th>\n",
       "      <th></th>\n",
       "      <th></th>\n",
       "      <th></th>\n",
       "      <th></th>\n",
       "      <th></th>\n",
       "      <th></th>\n",
       "      <th></th>\n",
       "    </tr>\n",
       "  </thead>\n",
       "  <tbody>\n",
       "    <tr>\n",
       "      <th>2001-01-08</th>\n",
       "      <td>268.60</td>\n",
       "      <td>268.30</td>\n",
       "      <td>178.769</td>\n",
       "      <td>178.664</td>\n",
       "      <td>282.410</td>\n",
       "      <td>282.481</td>\n",
       "      <td>0.336574</td>\n",
       "      <td>0.112317</td>\n",
       "    </tr>\n",
       "    <tr>\n",
       "      <th>2001-01-09</th>\n",
       "      <td>267.75</td>\n",
       "      <td>267.00</td>\n",
       "      <td>179.855</td>\n",
       "      <td>179.195</td>\n",
       "      <td>284.507</td>\n",
       "      <td>283.590</td>\n",
       "      <td>-0.484532</td>\n",
       "      <td>0.336574</td>\n",
       "    </tr>\n",
       "    <tr>\n",
       "      <th>2001-01-10</th>\n",
       "      <td>266.70</td>\n",
       "      <td>266.30</td>\n",
       "      <td>178.777</td>\n",
       "      <td>178.665</td>\n",
       "      <td>283.573</td>\n",
       "      <td>283.298</td>\n",
       "      <td>-0.262172</td>\n",
       "      <td>-0.484532</td>\n",
       "    </tr>\n",
       "    <tr>\n",
       "      <th>2001-01-11</th>\n",
       "      <td>264.80</td>\n",
       "      <td>264.15</td>\n",
       "      <td>177.302</td>\n",
       "      <td>176.441</td>\n",
       "      <td>279.768</td>\n",
       "      <td>278.053</td>\n",
       "      <td>-0.807360</td>\n",
       "      <td>-0.262172</td>\n",
       "    </tr>\n",
       "    <tr>\n",
       "      <th>2001-01-12</th>\n",
       "      <td>263.65</td>\n",
       "      <td>263.70</td>\n",
       "      <td>176.614</td>\n",
       "      <td>177.695</td>\n",
       "      <td>276.711</td>\n",
       "      <td>277.667</td>\n",
       "      <td>-0.170358</td>\n",
       "      <td>-0.807360</td>\n",
       "    </tr>\n",
       "  </tbody>\n",
       "</table>\n",
       "</div>"
      ],
      "text/plain": [
       "            USD (AM)  USD (PM)  GBP (AM)  GBP (PM)  EURO (AM)  EURO (PM)  \\\n",
       "Date                                                                       \n",
       "2001-01-08    268.60    268.30   178.769   178.664    282.410    282.481   \n",
       "2001-01-09    267.75    267.00   179.855   179.195    284.507    283.590   \n",
       "2001-01-10    266.70    266.30   178.777   178.665    283.573    283.298   \n",
       "2001-01-11    264.80    264.15   177.302   176.441    279.768    278.053   \n",
       "2001-01-12    263.65    263.70   176.614   177.695    276.711    277.667   \n",
       "\n",
       "              Return  Lagged_Return  \n",
       "Date                                 \n",
       "2001-01-08  0.336574       0.112317  \n",
       "2001-01-09 -0.484532       0.336574  \n",
       "2001-01-10 -0.262172      -0.484532  \n",
       "2001-01-11 -0.807360      -0.262172  \n",
       "2001-01-12 -0.170358      -0.807360  "
      ]
     },
     "execution_count": 14,
     "metadata": {},
     "output_type": "execute_result"
    }
   ],
   "source": [
    "df.head()"
   ]
  },
  {
   "cell_type": "code",
   "execution_count": 15,
   "id": "202dce91",
   "metadata": {},
   "outputs": [],
   "source": [
    "features = df.iloc[:,:]\n",
    "features= features.drop('Return' , axis = 1)\n",
    "label= df['Return']"
   ]
  },
  {
   "cell_type": "markdown",
   "id": "bec379e7",
   "metadata": {},
   "source": [
    "# Task 2: Create Train & Test Sets"
   ]
  },
  {
   "cell_type": "code",
   "execution_count": 18,
   "id": "9d47f855",
   "metadata": {},
   "outputs": [
    {
     "name": "stdout",
     "output_type": "stream",
     "text": [
      "X_train Shape : (3742, 7)\n",
      "Y_train Shape : (3742,)\n",
      "Y_test Shape : (936,)\n",
      "X_test Shape : (936, 7)\n"
     ]
    }
   ],
   "source": [
    "from sklearn.model_selection import train_test_split\n",
    "\n",
    "x_train, x_test, y_train, y_test = train_test_split(features ,label, test_size=0.2)\n",
    "print(f'X_train Shape : {x_train.shape}')\n",
    "print(f'Y_train Shape : {y_train.shape}')\n",
    "print(f'Y_test Shape : {y_test.shape}') \n",
    "print(f'X_test Shape : {x_test.shape}')"
   ]
  },
  {
   "cell_type": "markdown",
   "id": "9d733ff7",
   "metadata": {},
   "source": [
    "# Task 3: Develop Models & Predictions "
   ]
  },
  {
   "cell_type": "code",
   "execution_count": 19,
   "id": "a57c9f50",
   "metadata": {},
   "outputs": [
    {
     "name": "stdout",
     "output_type": "stream",
     "text": [
      "Accuracy score on train data: 0.30\n"
     ]
    }
   ],
   "source": [
    "from sklearn.linear_model import LinearRegression \n",
    "\n",
    "linear_model = LinearRegression()\n",
    "linear_model.fit(x_train,y_train)\n",
    "\n",
    "y_pred = linear_model.predict(x_test)\n",
    "\n",
    "x_score = linear_model.score(x_train,y_train)\n",
    "print(f'Accuracy score on train data: {x_score:.2f}')"
   ]
  },
  {
   "cell_type": "code",
   "execution_count": 26,
   "id": "28d4b2ee",
   "metadata": {},
   "outputs": [],
   "source": [
    "prediction= pd.DataFrame(list(zip(y_test,y_pred)))"
   ]
  },
  {
   "cell_type": "code",
   "execution_count": 27,
   "id": "801f83e5",
   "metadata": {},
   "outputs": [
    {
     "data": {
      "text/plain": [
       "array([<AxesSubplot:>, <AxesSubplot:>], dtype=object)"
      ]
     },
     "execution_count": 27,
     "metadata": {},
     "output_type": "execute_result"
    },
    {
     "data": {
      "image/png": "[encoded data removed]",
      "text/plain": [
       "<Figure size 432x288 with 2 Axes>"
      ]
     },
     "metadata": {
      "needs_background": "light"
     },
     "output_type": "display_data"
    }
   ],
   "source": [
    "prediction.plot(subplots=True, title='Gold price in chennai')"
   ]
  },
  {
   "cell_type": "code",
   "execution_count": null,
   "id": "9a18b73d",
   "metadata": {},
   "outputs": [],
   "source": []
  }
 ],
 "metadata": {
  "kernelspec": {
   "display_name": "Python 3 (ipykernel)",
   "language": "python",
   "name": "python3"
  },
  "language_info": {
   "codemirror_mode": {
    "name": "ipython",
    "version": 3
   },
   "file_extension": ".py",
   "mimetype": "text/x-python",
   "name": "python",
   "nbconvert_exporter": "python",
   "pygments_lexer": "ipython3",
   "version": "3.9.12"
  }
 },
 "nbformat": 4,
 "nbformat_minor": 5
}
